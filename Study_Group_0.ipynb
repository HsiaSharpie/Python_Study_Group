{
 "cells": [
  {
   "cell_type": "markdown",
   "metadata": {},
   "source": [
    "re(Regular Expression)中文叫正則表達式，是一個較靈活的配對工具， 可以在一大串字符中找想找的内容 "
   ]
  },
  {
   "cell_type": "markdown",
   "metadata": {},
   "source": [
    "```\n",
    "常用語法\n",
    "符號         意義                     備註                   \n",
    ".           所有\n",
    "^           限定字串開頭    \n",
    "$           限定字串結尾\n",
    "* ?         皆為後面可有0或多個字\n",
    "+           後面可有1或多個字\n",
    "*? +? ??    只找出搜尋結果的第一個\n",
    "{m}         對前一個字符重複m次\n",
    "[]          配對[]內的字符         [a-z A-Z 0-9]配對所有英文字母及數字 但[^6] 為配對6以外的數字\n",
    "()          配對()內的任意正則表達式\n",
    "\n",
    "```\n",
    "參考 : https://www.ibm.com/developerworks/cn/opensource/os-cn-pythonre/index.html"
   ]
  },
  {
   "cell_type": "markdown",
   "metadata": {},
   "source": [
    "```\n",
    "\\ 對特殊字轉義 或指定特殊序列\n",
    "常用特殊序列\n",
    "符號         意義                 相當於\n",
    "\\A           只配對字串開頭\n",
    "\\Z           只配對字串結尾\n",
    "\\d           配對0-9             [0-9]\n",
    "\\D           配對非0-9           [^0-9]\n",
    "\\s           配對任意空白        [\\t\\n\\r\\f\\v]\n",
    "\\S           配對非任意空白      [^\\t\\n\\r\\f\\v]\n",
    "\\w           配對任意数字和字母   [a-zA-Z0-9_]\n",
    "\\W           配對非任意数字和字母 [^a-zA-Z0-9_]\n",
    "  \n",
    "```\n",
    "參考 : https://www.ibm.com/developerworks/cn/opensource/os-cn-pythonre/index.html        "
   ]
  },
  {
   "cell_type": "code",
   "execution_count": 1,
   "metadata": {},
   "outputs": [],
   "source": [
    "import re"
   ]
  },
  {
   "cell_type": "markdown",
   "metadata": {},
   "source": [
    "# 1. 分割字串  \n",
    "## re.split()\n",
    "比較.split()與re.split()"
   ]
  },
  {
   "cell_type": "code",
   "execution_count": 2,
   "metadata": {},
   "outputs": [
    {
     "name": "stdout",
     "output_type": "stream",
     "text": [
      "['aa', 'bb', '', '', '', '', '', '', '', '', '', 'cc']\n",
      "['aa', 'bb', 'cc']\n"
     ]
    }
   ],
   "source": [
    "s1 = \"aa bb          cc\"\n",
    "print(s1.split(' '))\n",
    "print(re.split(r'\\s+', s1))"
   ]
  },
  {
   "cell_type": "markdown",
   "metadata": {},
   "source": [
    "用()配對的時候 被配對到的字也會輸出 "
   ]
  },
  {
   "cell_type": "code",
   "execution_count": 3,
   "metadata": {},
   "outputs": [
    {
     "name": "stdout",
     "output_type": "stream",
     "text": [
      "['asdf', ' ', 'fjdk', ';', 'afed', ',', 'fjek', ',', 'asdf', ',', 'foo']\n",
      "['asdf', 'fjdk', 'afed', 'fjek', 'asdf', 'foo']\n",
      "['asdf', 'fjdk', 'afed', 'fjek', 'asdf', 'foo']\n"
     ]
    }
   ],
   "source": [
    "line = 'asdf fjdk; afed, fjek,asdf, foo'\n",
    "# | 代表 \"或\"\n",
    "print(re.split(r'(;|,|\\s)\\s*', line))\n",
    "print(re.split(r'[;|,|\\s]\\s*', line))\n",
    "#用  ?: 去掉分隔符\n",
    "print(re.split(r'(?:,|;|\\s)\\s*', line))"
   ]
  },
  {
   "cell_type": "markdown",
   "metadata": {},
   "source": [
    "# 2. 配對字串的開頭或結尾\n",
    "```\n",
    ".endswith('')  \n",
    ".startswith('') \n",
    "```"
   ]
  },
  {
   "cell_type": "code",
   "execution_count": 4,
   "metadata": {},
   "outputs": [
    {
     "name": "stdout",
     "output_type": "stream",
     "text": [
      "True\n",
      "False\n"
     ]
    }
   ],
   "source": [
    "filename = 'spam.txt'\n",
    "print(filename.endswith('.txt'))\n",
    "print(filename.startswith('file:'))\n"
   ]
  },
  {
   "cell_type": "markdown",
   "metadata": {},
   "source": [
    "```\n",
    "要用集合表示要配對的項目的話\n",
    "一定要化成tuple 如果用list或set會error\n",
    "```"
   ]
  },
  {
   "cell_type": "code",
   "execution_count": 5,
   "metadata": {},
   "outputs": [
    {
     "data": {
      "text/plain": [
       "False"
      ]
     },
     "execution_count": 5,
     "metadata": {},
     "output_type": "execute_result"
    }
   ],
   "source": [
    "choices = ['http:', 'ftp:']\n",
    "url = 'https://www.ptt.cc/bbs/beauty/index.html'\n",
    "#如果用  url.startswith(choices)  會error\n",
    "#要化成tuple 如下\n",
    "url.startswith(tuple(choices))   "
   ]
  },
  {
   "cell_type": "markdown",
   "metadata": {},
   "source": [
    "# 3. 用通配符匹配\n",
    "```\n",
    "fnmatchcase()  大小寫需一樣\n",
    "fnmatch()     視作業系統而定   (Mac 對大小寫敏感  Windows 大小寫沒差)\n",
    "可用於處理不是文件名的字串\n",
    "```"
   ]
  },
  {
   "cell_type": "code",
   "execution_count": 6,
   "metadata": {},
   "outputs": [
    {
     "name": "stdout",
     "output_type": "stream",
     "text": [
      "Does 'foo.txt' and '*.txt' match ? True\n",
      "Does 'foo.txt' and '*.TXT' match ? True\n",
      "Does 'foo.txt' and '*.TXT' match ? False\n",
      "Does 'foo.txt' and '?oo.txt' match ? True\n",
      "Does 'Dat45.csv' and 'Dat[0-9]*' match ? True\n"
     ]
    }
   ],
   "source": [
    "from fnmatch import fnmatch, fnmatchcase\n",
    "print(\"Does 'foo.txt' and '*.txt' match ?\", fnmatch('foo.txt', '*.txt'))\n",
    "print(\"Does 'foo.txt' and '*.TXT' match ?\", fnmatch('foo.txt', '*.TXT'))\n",
    "print(\"Does 'foo.txt' and '*.TXT' match ?\", fnmatchcase('foo.txt', '*.TXT'))\n",
    "print(\"Does 'foo.txt' and '?oo.txt' match ?\", fnmatch('foo.txt', '?oo.txt'))\n",
    "print(\"Does 'Dat45.csv' and 'Dat[0-9]*' match ?\", fnmatch('Dat45.csv', 'Dat[0-9]*'))"
   ]
  },
  {
   "cell_type": "code",
   "execution_count": 7,
   "metadata": {},
   "outputs": [
    {
     "name": "stdout",
     "output_type": "stream",
     "text": [
      "['5412 N CLARK ST', '1060 W ADDISON ST', '2122 N CLARK ST']\n",
      "['5412 N CLARK ST']\n"
     ]
    }
   ],
   "source": [
    "addresses = [\n",
    "'5412 N CLARK ST',\n",
    "'1060 W ADDISON ST',\n",
    "'1039 W GRANVILLE AVE',\n",
    "'2122 N CLARK ST',\n",
    "'4802 N BROADWAY',\n",
    "]\n",
    "\n",
    "print([addr for addr in addresses if fnmatchcase(addr, '* ST')])\n",
    "print([addr for addr in addresses if fnmatchcase(addr, '54[0-9][0-9] *CLARK*')])"
   ]
  },
  {
   "cell_type": "markdown",
   "metadata": {},
   "source": [
    "# 4. 複雜的字串配對\n",
    "```\n",
    "re.match()\n",
    "re.compile()\n",
    "```"
   ]
  },
  {
   "cell_type": "code",
   "execution_count": 8,
   "metadata": {},
   "outputs": [
    {
     "name": "stdout",
     "output_type": "stream",
     "text": [
      "yes\n"
     ]
    }
   ],
   "source": [
    "import re\n",
    "text1 = '11/27/2012'\n",
    "\n",
    "if re.match(r'\\d+/\\d+/\\d+', text1):\n",
    "    print('yes')\n",
    "else:\n",
    "    print('no')"
   ]
  },
  {
   "cell_type": "markdown",
   "metadata": {},
   "source": [
    "```\n",
    ".compile() 可以將欲多次使用的匹配法儲存起來 \n",
    "再搭配.match()使用 \n",
    "```"
   ]
  },
  {
   "cell_type": "code",
   "execution_count": 9,
   "metadata": {},
   "outputs": [
    {
     "name": "stdout",
     "output_type": "stream",
     "text": [
      "yes\n",
      "no\n"
     ]
    }
   ],
   "source": [
    "datepat = re.compile(r'\\d+/\\d+/\\d+')\n",
    "text2 = 'Nov 27, 2012'\n",
    "\n",
    "if datepat.match(text1):\n",
    "    print('yes')\n",
    "else:\n",
    "    print('no')\n",
    "\n",
    "\n",
    "if datepat.match(text2):\n",
    "    print('yes')\n",
    "else:\n",
    "    print('no')"
   ]
  },
  {
   "cell_type": "markdown",
   "metadata": {},
   "source": [
    "```\n",
    ".match()     從字串開始去匹配\n",
    ".findall()   尋找字串中任意位置符合配對項目的\n",
    "```"
   ]
  },
  {
   "cell_type": "code",
   "execution_count": 10,
   "metadata": {},
   "outputs": [
    {
     "data": {
      "text/plain": [
       "['11/27/2012', '3/13/2013']"
      ]
     },
     "execution_count": 10,
     "metadata": {},
     "output_type": "execute_result"
    }
   ],
   "source": [
    "datepat = re.compile(r'\\d+/\\d+/\\d+')\n",
    "text = 'Today is 11/27/2012. PyCon starts 3/13/2013.'\n",
    "datepat.findall(text)"
   ]
  },
  {
   "cell_type": "markdown",
   "metadata": {},
   "source": [
    "在.compile()裡 用()包住要配對的對象 可以方便取出來"
   ]
  },
  {
   "cell_type": "code",
   "execution_count": 11,
   "metadata": {},
   "outputs": [
    {
     "name": "stdout",
     "output_type": "stream",
     "text": [
      "11/27/2012\n",
      "11\n",
      "27\n",
      "2012\n",
      "('11', '27', '2012')\n"
     ]
    }
   ],
   "source": [
    "datepat1 = re.compile(r'(\\d+)/(\\d+)/(\\d+)')\n",
    "m = datepat1.match('11/27/2012')\n",
    "print(m.group(0))\n",
    "print(m.group(1))\n",
    "print(m.group(2))\n",
    "print(m.group(3))\n",
    "print(m.groups())"
   ]
  },
  {
   "cell_type": "markdown",
   "metadata": {},
   "source": [
    ".finditer()以迭代方式產生"
   ]
  },
  {
   "cell_type": "code",
   "execution_count": 12,
   "metadata": {},
   "outputs": [
    {
     "name": "stdout",
     "output_type": "stream",
     "text": [
      "('11', '27', '2012')\n",
      "('3', '13', '2013')\n"
     ]
    }
   ],
   "source": [
    "datepat1 = re.compile(r'(\\d+)/(\\d+)/(\\d+)')\n",
    "text = 'Today is 11/27/2012. PyCon starts 3/13/2013.'\n",
    "for m in datepat1.finditer(text):\n",
    "    print(m.groups())"
   ]
  },
  {
   "cell_type": "markdown",
   "metadata": {},
   "source": [
    "# 5. 字串搜索和替換"
   ]
  },
  {
   "cell_type": "markdown",
   "metadata": {},
   "source": [
    ".replace() 與re.sub()"
   ]
  },
  {
   "cell_type": "code",
   "execution_count": 13,
   "metadata": {},
   "outputs": [
    {
     "name": "stdout",
     "output_type": "stream",
     "text": [
      "origin        is: yeah, but no, but yeah, but no, but yeah\n",
      "after replace is: yep, but no, but yep, but no, but yep\n",
      "======================================================================\n",
      "origin        is: Today is 11/27/2012. PyCon starts 3/13/2013.\n",
      "after replace is: Today is 2012-11-27. PyCon starts 2013-3-13.\n"
     ]
    }
   ],
   "source": [
    "text = 'yeah, but no, but yeah, but no, but yeah'\n",
    "print('origin        is:', text)\n",
    "print('after replace is:', text.replace('yeah', 'yep'))\n",
    "print('='*70)\n",
    "text2 = 'Today is 11/27/2012. PyCon starts 3/13/2013.'\n",
    "print('origin        is:', text2)\n",
    "print('after replace is:', re.sub(r'(\\d+)/(\\d+)/(\\d+)', r'\\3-\\1-\\2', text2))"
   ]
  },
  {
   "cell_type": "markdown",
   "metadata": {},
   "source": [
    "re.subn() 又多顯示取代了幾次"
   ]
  },
  {
   "cell_type": "code",
   "execution_count": 14,
   "metadata": {},
   "outputs": [
    {
     "name": "stdout",
     "output_type": "stream",
     "text": [
      "Today is 2012-11-27. PyCon starts 2013-3-13.\n",
      "2\n"
     ]
    }
   ],
   "source": [
    "datepat1 = re.compile(r'(\\d+)/(\\d+)/(\\d+)')\n",
    "newtext, n = datepat1.subn(r'\\3-\\1-\\2', text2)\n",
    "print(newtext)\n",
    "print(n)"
   ]
  },
  {
   "cell_type": "markdown",
   "metadata": {},
   "source": [
    "# 6. 替換時忽略大小寫\n",
    "flags=re.IGNORECASE"
   ]
  },
  {
   "cell_type": "code",
   "execution_count": 15,
   "metadata": {},
   "outputs": [
    {
     "name": "stdout",
     "output_type": "stream",
     "text": [
      "['PYTHON', 'python', 'Python']\n",
      "UPPER snake, lower snake, Mixed snake\n"
     ]
    }
   ],
   "source": [
    "text = 'UPPER PYTHON, lower python, Mixed Python'\n",
    "#找出python 不管大小寫\n",
    "print(re.findall('python', text, flags=re.IGNORECASE))\n",
    "#只要是python 全換成snake\n",
    "# 但\n",
    "# 被取代的字不會因原字的大小寫狀態而改變\n",
    "print(re.sub('python', 'snake', text, flags=re.IGNORECASE))"
   ]
  },
  {
   "cell_type": "markdown",
   "metadata": {},
   "source": [
    "可定義隨原字而變的函數"
   ]
  },
  {
   "cell_type": "code",
   "execution_count": 16,
   "metadata": {},
   "outputs": [],
   "source": [
    "def match(sub_word, match_word):\n",
    "    text = match_word.group()\n",
    "    if text.isupper():   #檢驗是否全大寫\n",
    "        return sub_word.upper()\n",
    "    elif text.islower(): #檢驗是否全小寫\n",
    "        return sub_word.lower()\n",
    "    elif text[0].isupper():   #檢驗是否第一字為大寫\n",
    "        return sub_word.capitalize()\n",
    "    else:\n",
    "        return sub_word"
   ]
  },
  {
   "cell_type": "markdown",
   "metadata": {},
   "source": [
    "```\n",
    "matchcase('snake') 返回了一個回調函數(參數要是match 對象 ex:下面例子的python)\n",
    "sub() 函數除了接受替換字符串外，還能接受一個回調函數。\n",
    "```"
   ]
  },
  {
   "cell_type": "code",
   "execution_count": 17,
   "metadata": {},
   "outputs": [],
   "source": [
    "from functools import partial"
   ]
  },
  {
   "cell_type": "code",
   "execution_count": 18,
   "metadata": {},
   "outputs": [
    {
     "data": {
      "text/plain": [
       "'UPPER SNAKE, lower snake, Mixed Snake'"
      ]
     },
     "execution_count": 18,
     "metadata": {},
     "output_type": "execute_result"
    }
   ],
   "source": [
    "re.sub('python', partial(match, 'snake'), text, flags=re.IGNORECASE)"
   ]
  },
  {
   "cell_type": "markdown",
   "metadata": {},
   "source": [
    "# 7.  找最短的配對項\n",
    "```\n",
    "re配對某個字串，可能找到的是最長的\n",
    "所以修改它變成找最短的配對項\n",
    "```"
   ]
  },
  {
   "cell_type": "code",
   "execution_count": 19,
   "metadata": {},
   "outputs": [
    {
     "name": "stdout",
     "output_type": "stream",
     "text": [
      "['no.']\n",
      "['no.\" Phone says \"yes.']\n"
     ]
    }
   ],
   "source": [
    "#找雙引號內的字\n",
    "str_pat = re.compile(r'\\\"(.*)\\\"')\n",
    "text1 = 'Computer says \"no.\"'\n",
    "print(str_pat.findall(text1))\n",
    "text2 = 'Computer says \"no.\" Phone says \"yes.\"'\n",
    "print(str_pat.findall(text2))"
   ]
  },
  {
   "cell_type": "markdown",
   "metadata": {},
   "source": [
    "```\n",
    "* 會找最長的\n",
    "需要在*後面加一個?\n",
    "*? 為找搜尋結果的第一個(最開頭有寫)\n",
    "```"
   ]
  },
  {
   "cell_type": "code",
   "execution_count": 20,
   "metadata": {},
   "outputs": [
    {
     "data": {
      "text/plain": [
       "['no.', 'yes.']"
      ]
     },
     "execution_count": 20,
     "metadata": {},
     "output_type": "execute_result"
    }
   ],
   "source": [
    "str_pat = re.compile(r'\\\"(.*?)\\\"')\n",
    "str_pat.findall(text2)"
   ]
  },
  {
   "cell_type": "markdown",
   "metadata": {},
   "source": [
    "# 8.  多行情況下匹配"
   ]
  },
  {
   "cell_type": "code",
   "execution_count": 21,
   "metadata": {},
   "outputs": [
    {
     "name": "stdout",
     "output_type": "stream",
     "text": [
      "[' this is a comment ']\n",
      "[]\n"
     ]
    }
   ],
   "source": [
    "# 找 /* */ 內的字\n",
    "\n",
    "comment = re.compile(r'/\\*(.*?)\\*/')\n",
    "text1 = '/* this is a comment */'\n",
    "text2 = '''/* this is a\n",
    "    multiline comment */\n",
    "    '''\n",
    "print(comment.findall(text1))\n",
    "#找不到\n",
    "print(comment.findall(text2))"
   ]
  },
  {
   "cell_type": "markdown",
   "metadata": {},
   "source": [
    "(?:.|\\n) 為 找.或\\n"
   ]
  },
  {
   "cell_type": "code",
   "execution_count": 22,
   "metadata": {},
   "outputs": [
    {
     "data": {
      "text/plain": [
       "[' this is a\\n    multiline comment ']"
      ]
     },
     "execution_count": 22,
     "metadata": {},
     "output_type": "execute_result"
    }
   ],
   "source": [
    "comment = re.compile(r'/\\*((?:.|\\n)*?)\\*/')\n",
    "comment.findall(text2)"
   ]
  },
  {
   "cell_type": "markdown",
   "metadata": {},
   "source": [
    "```\n",
    "re.compile() 可加入一個標誌參數叫re.DOTALL\n",
    "讓正則表達式中的點(.) 匹配包括換行符在內的任意字符\n",
    "```"
   ]
  },
  {
   "cell_type": "code",
   "execution_count": 23,
   "metadata": {},
   "outputs": [
    {
     "data": {
      "text/plain": [
       "[' this is a\\n    multiline comment ']"
      ]
     },
     "execution_count": 23,
     "metadata": {},
     "output_type": "execute_result"
    }
   ],
   "source": [
    "comment = re.compile(r'/\\*(.*?)\\*/', re.DOTALL)\n",
    "comment.findall(text2)"
   ]
  },
  {
   "cell_type": "markdown",
   "metadata": {},
   "source": [
    "# 9. 刪除字符串中不需要的字符"
   ]
  },
  {
   "cell_type": "markdown",
   "metadata": {},
   "source": [
    "```\n",
    "預設下會刪除空白\n",
    "strip()      刪除開始或結尾的字符\n",
    "lstrip()     從左執行刪除操作\n",
    "rstrip()     從右執行刪除操作\n",
    "```"
   ]
  },
  {
   "cell_type": "code",
   "execution_count": 24,
   "metadata": {},
   "outputs": [
    {
     "name": "stdout",
     "output_type": "stream",
     "text": [
      "hello world\n",
      " hello world\n"
     ]
    },
    {
     "data": {
      "text/plain": [
       "'hello world \\n'"
      ]
     },
     "execution_count": 24,
     "metadata": {},
     "output_type": "execute_result"
    }
   ],
   "source": [
    "s = ' hello world \\n'\n",
    "print(s.strip())\n",
    "print(s.rstrip())\n",
    "s.lstrip()"
   ]
  },
  {
   "cell_type": "code",
   "execution_count": 25,
   "metadata": {},
   "outputs": [
    {
     "name": "stdout",
     "output_type": "stream",
     "text": [
      "hello=====\n",
      "hello\n"
     ]
    }
   ],
   "source": [
    "t = '-----hello====='\n",
    "print(t.lstrip('-'))\n",
    "print(t.strip('-='))"
   ]
  },
  {
   "cell_type": "markdown",
   "metadata": {},
   "source": [
    "```\n",
    "用strip() 不會 對中間的文本產生影響\n",
    "若要刪除空格 就用replace 或 re.sub()把空格替換掉\n",
    "```"
   ]
  },
  {
   "cell_type": "code",
   "execution_count": 26,
   "metadata": {},
   "outputs": [
    {
     "data": {
      "text/plain": [
       "'hello    world'"
      ]
     },
     "execution_count": 26,
     "metadata": {},
     "output_type": "execute_result"
    }
   ],
   "source": [
    "s = ' hello    world \\n'\n",
    "s.strip()"
   ]
  },
  {
   "cell_type": "markdown",
   "metadata": {},
   "source": [
    "# 10. 字符串對齊\n",
    "```\n",
    "ljust()   從左對齊\n",
    "rjust()   從右對齊\n",
    "center()  向中間對齊\n",
    "```"
   ]
  },
  {
   "cell_type": "code",
   "execution_count": 27,
   "metadata": {},
   "outputs": [
    {
     "name": "stdout",
     "output_type": "stream",
     "text": [
      "Hello World         \n",
      "         Hello World\n",
      "    Hello World     \n"
     ]
    }
   ],
   "source": [
    "#參數為總長\n",
    "text = 'Hello World'\n",
    "print(text.ljust(20))\n",
    "print(text.rjust(20))\n",
    "print(text.center(20))"
   ]
  },
  {
   "cell_type": "code",
   "execution_count": 28,
   "metadata": {},
   "outputs": [
    {
     "data": {
      "text/plain": [
       "'=========Hello World'"
      ]
     },
     "execution_count": 28,
     "metadata": {},
     "output_type": "execute_result"
    }
   ],
   "source": [
    "#填充字串\n",
    "text.rjust(20,'=')"
   ]
  },
  {
   "cell_type": "markdown",
   "metadata": {},
   "source": [
    "format() 也可執行一樣的事"
   ]
  },
  {
   "cell_type": "code",
   "execution_count": 29,
   "metadata": {},
   "outputs": [
    {
     "name": "stdout",
     "output_type": "stream",
     "text": [
      "         Hello World\n",
      "Hello World         \n",
      "    Hello World     \n",
      "****Hello World*****\n"
     ]
    }
   ],
   "source": [
    "# >為靠右 <靠左 ^靠中間\n",
    "print(format(text, '>20'))\n",
    "print(format(text, '<20'))\n",
    "print(format(text, '^20'))\n",
    "# 位置符號前可加 填充字符\n",
    "print(format(text, '*^20s'))"
   ]
  },
  {
   "cell_type": "markdown",
   "metadata": {},
   "source": [
    "```\n",
    "format()可格式多個\n",
    "也可格式化數值\n",
    "```"
   ]
  },
  {
   "cell_type": "code",
   "execution_count": 30,
   "metadata": {},
   "outputs": [
    {
     "name": "stdout",
     "output_type": "stream",
     "text": [
      "     Hello      World\n",
      "    1.2345\n",
      "   1.23   \n"
     ]
    }
   ],
   "source": [
    "print('{:>10s} {:>10s}'.format('Hello', 'World'))\n",
    "x = 1.2345\n",
    "print(format(x, '>10'))\n",
    "print(format(x, '^10.2f'))"
   ]
  },
  {
   "cell_type": "markdown",
   "metadata": {},
   "source": [
    "```\n",
    "整體而言 \n",
    "format較ljust() rjust() center()優\n",
    "```"
   ]
  },
  {
   "cell_type": "markdown",
   "metadata": {},
   "source": [
    "# 11. 字符串中插入變量"
   ]
  },
  {
   "cell_type": "markdown",
   "metadata": {},
   "source": [
    ".format()"
   ]
  },
  {
   "cell_type": "code",
   "execution_count": 31,
   "metadata": {},
   "outputs": [
    {
     "data": {
      "text/plain": [
       "'Guido has 37 messages.'"
      ]
     },
     "execution_count": 31,
     "metadata": {},
     "output_type": "execute_result"
    }
   ],
   "source": [
    "s = '{name} has {n} messages.'\n",
    "s.format(name='Guido', n=37)"
   ]
  },
  {
   "cell_type": "markdown",
   "metadata": {},
   "source": [
    "```\n",
    "變數如果有先定義\n",
    "可用format_map()搭配vars()編輯\n",
    "```"
   ]
  },
  {
   "cell_type": "code",
   "execution_count": 32,
   "metadata": {},
   "outputs": [
    {
     "data": {
      "text/plain": [
       "'Guido has 37 messages.'"
      ]
     },
     "execution_count": 32,
     "metadata": {},
     "output_type": "execute_result"
    }
   ],
   "source": [
    "name = 'Guido'\n",
    "n = 37\n",
    "s.format_map(vars())"
   ]
  },
  {
   "cell_type": "markdown",
   "metadata": {},
   "source": [
    "# 但\n",
    "```\n",
    "format跟format_map 在有missing value 的時候 \n",
    "插入變量會error\n",
    "否則須自訂函數\n",
    "```"
   ]
  },
  {
   "cell_type": "code",
   "execution_count": 33,
   "metadata": {},
   "outputs": [],
   "source": [
    "class safesub(dict): #防止key 找不到\n",
    "    def __missing__(self, key):\n",
    "        return '{' + key +  '}' #把missing value 用key名取代"
   ]
  },
  {
   "cell_type": "code",
   "execution_count": 34,
   "metadata": {},
   "outputs": [
    {
     "data": {
      "text/plain": [
       "'Guido has {n} messages.'"
      ]
     },
     "execution_count": 34,
     "metadata": {},
     "output_type": "execute_result"
    }
   ],
   "source": [
    "del n # 把剛定義的n刪掉\n",
    "s.format_map(safesub(vars()))"
   ]
  },
  {
   "cell_type": "markdown",
   "metadata": {},
   "source": [
    "# 12. 解構字串 逐項歸類(令牌化)\n",
    "```\n",
    "模式中， ?P<TOKENNAME> 用於給一個模式命名\n",
    "```"
   ]
  },
  {
   "cell_type": "code",
   "execution_count": 35,
   "metadata": {},
   "outputs": [],
   "source": [
    "text = 'foo = 23 + 42 * 10'\n",
    "tokens = [('NAME', 'foo'), ('EQ','='), ('NUM', '23'), ('PLUS','+'),('NUM', '42'), ('TIMES', '*'), ('NUM', 10)]\n",
    "import re\n",
    "NAME = r'(?P<NAME>[a-zA-Z_][a-zA-Z_0-9]*)'\n",
    "NUM = r'(?P<NUM>\\d+)'\n",
    "PLUS = r'(?P<PLUS>\\+)'\n",
    "TIMES = r'(?P<TIMES>\\*)'\n",
    "EQ = r'(?P<EQ>=)'\n",
    "WS = r'(?P<WS>\\s+)'\n",
    "master_pat = re.compile('|'.join([NAME, NUM, PLUS, TIMES, EQ, WS]))"
   ]
  },
  {
   "cell_type": "code",
   "execution_count": 36,
   "metadata": {},
   "outputs": [
    {
     "data": {
      "text/plain": [
       "'(?P<NAME>[a-zA-Z_][a-zA-Z_0-9]*)|(?P<NUM>\\\\d+)|(?P<PLUS>\\\\+)|(?P<TIMES>\\\\*)|(?P<EQ>=)|(?P<WS>\\\\s+)'"
      ]
     },
     "execution_count": 36,
     "metadata": {},
     "output_type": "execute_result"
    }
   ],
   "source": [
    "'|'.join([NAME, NUM, PLUS, TIMES, EQ, WS])"
   ]
  },
  {
   "cell_type": "code",
   "execution_count": 37,
   "metadata": {},
   "outputs": [],
   "source": [
    "scanner = master_pat.scanner('foo = 42')"
   ]
  },
  {
   "cell_type": "code",
   "execution_count": 38,
   "metadata": {},
   "outputs": [
    {
     "data": {
      "text/plain": [
       "<_sre.SRE_Match object; span=(0, 3), match='foo'>"
      ]
     },
     "execution_count": 38,
     "metadata": {},
     "output_type": "execute_result"
    }
   ],
   "source": [
    "scanner.match()"
   ]
  },
  {
   "cell_type": "code",
   "execution_count": 39,
   "metadata": {},
   "outputs": [
    {
     "name": "stdout",
     "output_type": "stream",
     "text": [
      "NAME foo\n"
     ]
    }
   ],
   "source": [
    "print(_.lastgroup, _.group())"
   ]
  },
  {
   "cell_type": "code",
   "execution_count": 40,
   "metadata": {},
   "outputs": [
    {
     "data": {
      "text/plain": [
       "<_sre.SRE_Match object; span=(3, 4), match=' '>"
      ]
     },
     "execution_count": 40,
     "metadata": {},
     "output_type": "execute_result"
    }
   ],
   "source": [
    "scanner.match()"
   ]
  },
  {
   "cell_type": "code",
   "execution_count": 41,
   "metadata": {},
   "outputs": [
    {
     "name": "stdout",
     "output_type": "stream",
     "text": [
      "WS  \n"
     ]
    }
   ],
   "source": [
    "print(_.lastgroup, _.group())"
   ]
  },
  {
   "cell_type": "code",
   "execution_count": 42,
   "metadata": {},
   "outputs": [
    {
     "data": {
      "text/plain": [
       "<_sre.SRE_Match object; span=(4, 5), match='='>"
      ]
     },
     "execution_count": 42,
     "metadata": {},
     "output_type": "execute_result"
    }
   ],
   "source": [
    "scanner.match()"
   ]
  },
  {
   "cell_type": "code",
   "execution_count": 43,
   "metadata": {},
   "outputs": [
    {
     "name": "stdout",
     "output_type": "stream",
     "text": [
      "EQ =\n"
     ]
    }
   ],
   "source": [
    "print(_.lastgroup, _.group())"
   ]
  },
  {
   "cell_type": "code",
   "execution_count": 44,
   "metadata": {},
   "outputs": [
    {
     "data": {
      "text/plain": [
       "<_sre.SRE_Match object; span=(5, 6), match=' '>"
      ]
     },
     "execution_count": 44,
     "metadata": {},
     "output_type": "execute_result"
    }
   ],
   "source": [
    "scanner.match()"
   ]
  },
  {
   "cell_type": "code",
   "execution_count": 45,
   "metadata": {},
   "outputs": [
    {
     "name": "stdout",
     "output_type": "stream",
     "text": [
      "WS  \n"
     ]
    }
   ],
   "source": [
    "print(_.lastgroup, _.group())"
   ]
  },
  {
   "cell_type": "code",
   "execution_count": 46,
   "metadata": {},
   "outputs": [
    {
     "data": {
      "text/plain": [
       "<_sre.SRE_Match object; span=(6, 8), match='42'>"
      ]
     },
     "execution_count": 46,
     "metadata": {},
     "output_type": "execute_result"
    }
   ],
   "source": [
    "scanner.match()"
   ]
  },
  {
   "cell_type": "code",
   "execution_count": 47,
   "metadata": {},
   "outputs": [
    {
     "name": "stdout",
     "output_type": "stream",
     "text": [
      "NUM 42\n"
     ]
    }
   ],
   "source": [
    "print(_.lastgroup, _.group())"
   ]
  },
  {
   "cell_type": "markdown",
   "metadata": {},
   "source": [
    "定個函數較方便"
   ]
  },
  {
   "cell_type": "code",
   "execution_count": 48,
   "metadata": {},
   "outputs": [
    {
     "name": "stdout",
     "output_type": "stream",
     "text": [
      "Token(type='NAME', value='foo')\n",
      "Token(type='WS', value=' ')\n",
      "Token(type='EQ', value='=')\n",
      "Token(type='WS', value=' ')\n",
      "Token(type='NUM', value='42')\n"
     ]
    }
   ],
   "source": [
    "from collections import namedtuple\n",
    "master_pat = re.compile('|'.join([NAME, NUM, PLUS, TIMES, EQ, WS]))\n",
    "scanner = master_pat.scanner('foo = 42')\n",
    "def generate_tokens(pat, text):\n",
    "    Token = namedtuple('Token', ['type', 'value'])\n",
    "    scanner = pat.scanner(text)\n",
    "    #遇到None就停止迭代\n",
    "    for m in iter(scanner.match, None):\n",
    "        yield Token(m.lastgroup, m.group())\n",
    "for tok in generate_tokens(master_pat, 'foo = 42'):\n",
    "    print(tok)"
   ]
  }
 ],
 "metadata": {
  "kernelspec": {
   "display_name": "Python 3",
   "language": "python",
   "name": "python3"
  },
  "language_info": {
   "codemirror_mode": {
    "name": "ipython",
    "version": 3
   },
   "file_extension": ".py",
   "mimetype": "text/x-python",
   "name": "python",
   "nbconvert_exporter": "python",
   "pygments_lexer": "ipython3",
   "version": "3.7.3"
  }
 },
 "nbformat": 4,
 "nbformat_minor": 2
}
