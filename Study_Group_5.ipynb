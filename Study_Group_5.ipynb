{
 "cells": [
  {
   "cell_type": "markdown",
   "metadata": {},
   "source": [
    "### Python Study Group week 5"
   ]
  },
  {
   "cell_type": "markdown",
   "metadata": {},
   "source": [
    "### Theme: 優化爬蟲速度 by multiprocessing"
   ]
  },
  {
   "cell_type": "markdown",
   "metadata": {},
   "source": [
    "------------------------------------------------------------"
   ]
  },
  {
   "cell_type": "markdown",
   "metadata": {},
   "source": [
    "### Let's get it started !"
   ]
  },
  {
   "cell_type": "markdown",
   "metadata": {},
   "source": [
    "```\n",
    "首先，考慮以下一個簡單的 function：\n",
    "它以 Python 內建的 split() 方法進行 sentence 的英文斷詞。\n",
    "```"
   ]
  },
  {
   "cell_type": "code",
   "execution_count": 14,
   "metadata": {},
   "outputs": [],
   "source": [
    "def split_it(sent):\n",
    "    split_sent =  sent.split(' ')\n",
    "    return split_sent"
   ]
  },
  {
   "cell_type": "markdown",
   "metadata": {},
   "source": [
    "```\n",
    "好，接著我們餵幾個簡單的句子給 function。\n",
    "當然，我們就必須使用迭代依序把 sentence 餵進去。\n",
    "```"
   ]
  },
  {
   "cell_type": "code",
   "execution_count": 15,
   "metadata": {},
   "outputs": [
    {
     "name": "stdout",
     "output_type": "stream",
     "text": [
      "['I', 'like', 'to', 'eat', 'apple.']\n",
      "['I', \"don't\", 'like', 'it']\n",
      "['Why!', 'It', 'is', 'juicy']\n",
      "\n",
      "花費: 0.000888 秒\n"
     ]
    }
   ],
   "source": [
    "import time\n",
    "\n",
    "sentences = [\n",
    "    \"I like to eat apple.\",\n",
    "    \"I don't like it\",\n",
    "    \"Why! It is juicy\"\n",
    "]\n",
    "\n",
    "start = time.time()\n",
    "\n",
    "for sent in sentences:\n",
    "    split_sent = split_it(sent)\n",
    "    print(split_sent)\n",
    "\n",
    "print()\n",
    "print('花費: %f 秒' % (time.time() - start))"
   ]
  },
  {
   "cell_type": "markdown",
   "metadata": {},
   "source": [
    "```\n",
    "以上方法以迭代方式，依序完成 function 內的任務。\n",
    "但因為 list 中的個數非常少(len(sentences) = 3)，\n",
    "且 function 中必須要完成的任務相當簡單，故花費時間非常短。\n",
    "\n",
    "若我們考量到需要花費較多時間的 function 呢？\n",
    "```"
   ]
  },
  {
   "cell_type": "code",
   "execution_count": 16,
   "metadata": {},
   "outputs": [
    {
     "data": {
      "text/plain": [
       "['https://www.ptt.cc/bbs/NBA/index6505.html',\n",
       " 'https://www.ptt.cc/bbs/NBA/index6504.html',\n",
       " 'https://www.ptt.cc/bbs/NBA/index6503.html',\n",
       " 'https://www.ptt.cc/bbs/NBA/index6502.html',\n",
       " 'https://www.ptt.cc/bbs/NBA/index6501.html',\n",
       " 'https://www.ptt.cc/bbs/NBA/index6500.html',\n",
       " 'https://www.ptt.cc/bbs/NBA/index6499.html',\n",
       " 'https://www.ptt.cc/bbs/NBA/index6498.html',\n",
       " 'https://www.ptt.cc/bbs/NBA/index6497.html',\n",
       " 'https://www.ptt.cc/bbs/NBA/index6496.html']"
      ]
     },
     "execution_count": 16,
     "metadata": {},
     "output_type": "execute_result"
    }
   ],
   "source": [
    "# 以對ptt-nba版發送請求為例：\n",
    "\n",
    "base_url = 'https://www.ptt.cc/bbs/NBA/index'\n",
    "\n",
    "\n",
    "def generate_urls(base_url):\n",
    "    page = 6506\n",
    "    all_urls = []\n",
    "    for i in range(1, 11):\n",
    "        link = str(page-i) + '.html'\n",
    "        all_urls.append(base_url + str(link))\n",
    "        \n",
    "    return all_urls\n",
    "        \n",
    "all_urls = generate_urls(base_url)\n",
    "all_urls"
   ]
  },
  {
   "cell_type": "code",
   "execution_count": 17,
   "metadata": {},
   "outputs": [],
   "source": [
    "import requests\n",
    "\n",
    "def get_web_page(url):\n",
    "    resp = requests.get(url)\n",
    "    if resp.status_code != 200:\n",
    "        print('Invalid url: ', resp.url)\n",
    "        return None\n",
    "    else:\n",
    "        return resp.url"
   ]
  },
  {
   "cell_type": "code",
   "execution_count": 18,
   "metadata": {},
   "outputs": [
    {
     "name": "stdout",
     "output_type": "stream",
     "text": [
      "Invalid url:  https://www.ptt.cc/bbs/NBA/index6505.html\n",
      "None\n",
      "https://www.ptt.cc/bbs/NBA/index6504.html\n",
      "https://www.ptt.cc/bbs/NBA/index6503.html\n",
      "https://www.ptt.cc/bbs/NBA/index6502.html\n",
      "https://www.ptt.cc/bbs/NBA/index6501.html\n",
      "https://www.ptt.cc/bbs/NBA/index6500.html\n",
      "https://www.ptt.cc/bbs/NBA/index6499.html\n",
      "https://www.ptt.cc/bbs/NBA/index6498.html\n",
      "https://www.ptt.cc/bbs/NBA/index6497.html\n",
      "https://www.ptt.cc/bbs/NBA/index6496.html\n",
      "\n",
      "花費: 0.527810 秒\n"
     ]
    }
   ],
   "source": [
    "start = time.time()\n",
    "\n",
    "for url in all_urls:\n",
    "    url = get_web_page(url)\n",
    "    print(url)\n",
    "    \n",
    "print()\n",
    "print('花費: %f 秒' % (time.time() - start))"
   ]
  },
  {
   "cell_type": "markdown",
   "metadata": {},
   "source": [
    "```\n",
    "由以上的測試，我們使用迭代依序執行以上 function 的時間大約為 13-14秒左右。\n",
    "他的執行過程為:\n",
    "    for i in range(len(sentences)):\n",
    "        request -> response\n",
    "        \n",
    "以上，當我們收到 server 回傳 response後，我們才會接著去發送下個 requests。\n",
    "當發送的 url 數目非常大，整個執行時間就會拉很長。\n",
    "```"
   ]
  },
  {
   "cell_type": "markdown",
   "metadata": {},
   "source": [
    "------------------------------------------------------------"
   ]
  },
  {
   "cell_type": "markdown",
   "metadata": {},
   "source": [
    "### Intro to multiprocessing"
   ]
  },
  {
   "cell_type": "markdown",
   "metadata": {},
   "source": [
    "```\n",
    "multiprocessing:\n",
    "在同一時間，系統可支援不只一個 processor (處理器)。\n",
    "\n",
    "在系統中使用 multiprocessing -> 將工作切分成幾個獨立的routinues。\n",
    "作業系統會將這些 threads 分配給不同 processors，以優化系統的表現。\n",
    "```"
   ]
  },
  {
   "cell_type": "markdown",
   "metadata": {},
   "source": [
    "```\n",
    "multiprocessing system:\n",
    " - 電腦將要有不只一個處理器\n",
    " - \n",
    "```"
   ]
  },
  {
   "cell_type": "markdown",
   "metadata": {},
   "source": [
    "```\n",
    "CPU 可同時處理數個不同的 tasks，而每一個 task 都是由各自的 processer 進行處理。\n",
    "\n",
    "在 Python 中，multiprocessing module 提供非常簡單跟直覺的 API 以讓我們使用。\n",
    "以下就開始簡介如何使用：\n",
    "```"
   ]
  },
  {
   "cell_type": "code",
   "execution_count": 22,
   "metadata": {},
   "outputs": [
    {
     "data": {
      "text/plain": [
       "4"
      ]
     },
     "execution_count": 22,
     "metadata": {},
     "output_type": "execute_result"
    }
   ],
   "source": [
    "import multiprocessing\n",
    "\n",
    "cores = multiprocessing.cpu_count()\n",
    "cores"
   ]
  },
  {
   "cell_type": "code",
   "execution_count": 7,
   "metadata": {},
   "outputs": [
    {
     "name": "stdout",
     "output_type": "stream",
     "text": [
      "Square: 100\n",
      "Cube: 1000\n",
      "Done!\n"
     ]
    }
   ],
   "source": [
    "import multiprocessing\n",
    "\n",
    "def print_cube(num):\n",
    "    print('Cube: {}'.format(num*num*num))\n",
    "    \n",
    "def print_square(num):\n",
    "    print('Square: {}'.format(num*num))\n",
    "    \n",
    "if __name__ == '__main__':\n",
    "    # creating processes\n",
    "    p1 = multiprocessing.Process(target=print_square, args=(10, ))\n",
    "    p2 = multiprocessing.Process(target=print_cube, args=(10, ))\n",
    "    \n",
    "    # starting process 1\n",
    "    p1.start()\n",
    "    # starting process 2\n",
    "    p2.start()\n",
    "    \n",
    "    # wait until process1 is finished\n",
    "    p1.join()\n",
    "    # wait until process2 is finished\n",
    "    p2.join()\n",
    "    \n",
    "    # both processes finished\n",
    "    print('Done!')"
   ]
  },
  {
   "cell_type": "markdown",
   "metadata": {},
   "source": [
    "\n",
    "```\n",
    "Note:\n",
    "\n",
    "Step1.\n",
    "  實例化 Process class 以建構 process。\n",
    "  \n",
    "  \"\"\"\n",
    "    p1 = multiprocessing.Process(target=print_square, args=(10, ))\n",
    "    p2 = multiprocessing.Process(target=print_cube, args=(10, ))\n",
    "    \n",
    "  \"\"\"\n",
    "    Input arguments:\n",
    "      1. target: 要被 process 處理之 function\n",
    "      2. args: 要被丟入 target function 的 arguments\n",
    "      \n",
    "Step2.\n",
    "啟動 process。\n",
    "\n",
    "\"\"\"\n",
    "  p1.start()\n",
    "  p2.start()\n",
    "  \n",
    "\"\"\"\n",
    "\n",
    "Step3.\n",
    "終止 process。\n",
    "\n",
    "一但 process 啟動，執行中的 py/ipynb 檔就會持續執行它。\n",
    "為了在完成 process 後中斷執行，使用 join()。\n",
    "亦即程式會等待 p1，然後 p2 執行完畢，再接著執行依序的 statements。\n",
    "\n",
    "\"\"\"\n",
    "p1.join()\n",
    "p2.join()\n",
    "\n",
    "\"\"\"\n",
    "```"
   ]
  },
  {
   "cell_type": "markdown",
   "metadata": {},
   "source": [
    "------------------------------------------------------------"
   ]
  },
  {
   "cell_type": "markdown",
   "metadata": {},
   "source": [
    "### Another Example:"
   ]
  },
  {
   "cell_type": "code",
   "execution_count": 8,
   "metadata": {},
   "outputs": [],
   "source": [
    "import os\n",
    "\n",
    "def worker1():\n",
    "    # print process id\n",
    "    print('ID of process running worker1: {}'.format(os.getpid()))\n",
    "    \n",
    "def worker2():\n",
    "    # print process id\n",
    "    print('ID of process running worker2: {}'.format(os.getpid()))"
   ]
  },
  {
   "cell_type": "code",
   "execution_count": 23,
   "metadata": {},
   "outputs": [
    {
     "name": "stdout",
     "output_type": "stream",
     "text": [
      "ID of main process: 1777\n",
      "ID of process running worker2: 2134\n",
      "ID of process running worker1: 2133\n",
      "\n",
      "ID of process p1: 2133\n",
      "ID of process p2: 2134\n",
      "Both processes finished execution!\n",
      "\n",
      "Process p1 is alive: False\n",
      "Process p2 is alive: False\n"
     ]
    }
   ],
   "source": [
    "if __name__ == '__main__':\n",
    "    # print main program process id\n",
    "    print('ID of main process: {}'.format(os.getpid()))\n",
    "    \n",
    "    # creating processes\n",
    "    p1 = multiprocessing.Process(target=worker1)\n",
    "    p2 = multiprocessing.Process(target=worker2)\n",
    "    \n",
    "    # starting processes\n",
    "    p1.start()\n",
    "    p2.start()\n",
    "    print()\n",
    "    \n",
    "    # process IDs\n",
    "    print('ID of process p1: {}'.format(p1.pid)) \n",
    "    print('ID of process p2: {}'.format(p2.pid))\n",
    "    \n",
    "    \n",
    "    # wait until processes are finished\n",
    "    p1.join()\n",
    "    p2.join()\n",
    "    \n",
    "    # both processes finished \n",
    "    print('Both processes finished execution!') \n",
    "    print()\n",
    "    # check if processes are alive\n",
    "    print('Process p1 is alive: {}'.format(p1.is_alive()))\n",
    "    print('Process p2 is alive: {}'.format(p2.is_alive()))"
   ]
  },
  {
   "cell_type": "markdown",
   "metadata": {},
   "source": [
    "<br>"
   ]
  },
  {
   "cell_type": "markdown",
   "metadata": {},
   "source": [
    "```\n",
    "Note:\n",
    "1. main process 的 processID 與 multiprocessing module 產生的 processID 不同。\n",
    "2. 以上，我們使用 os.getpid() 以取得正在 target function 運作的 processID。\n",
    "   os.getpid() == processer.pid\n",
    "3. 每一個 process 是相互獨立，且有自己的 memory space。\n",
    "```"
   ]
  },
  {
   "cell_type": "markdown",
   "metadata": {},
   "source": [
    "------------------------------------------------------------"
   ]
  },
  {
   "cell_type": "markdown",
   "metadata": {},
   "source": [
    "### Another Example:"
   ]
  },
  {
   "cell_type": "code",
   "execution_count": 10,
   "metadata": {},
   "outputs": [],
   "source": [
    "import multiprocessing \n",
    "\n",
    "# empty list with global scope \n",
    "result = [] \n",
    "  \n",
    "def square_list(mylist): \n",
    "    \"\"\" \n",
    "    function to square a given list \n",
    "    \"\"\"\n",
    "    global result \n",
    "    # append squares of mylist to global list result \n",
    "    for num in mylist: \n",
    "        result.append(num * num) \n",
    "    # print global list result \n",
    "    print(\"Result(in process p1): {}\".format(result))"
   ]
  },
  {
   "cell_type": "code",
   "execution_count": 11,
   "metadata": {},
   "outputs": [
    {
     "name": "stdout",
     "output_type": "stream",
     "text": [
      "Result(in process p1): [1, 4, 9, 16]\n",
      "Result(in main program): []\n"
     ]
    }
   ],
   "source": [
    "if __name__ == \"__main__\": \n",
    "    # input list \n",
    "    mylist = [1,2,3,4] \n",
    "  \n",
    "    # creating new process \n",
    "    p1 = multiprocessing.Process(target=square_list, args=(mylist,)) \n",
    "    # starting process \n",
    "    p1.start() \n",
    "    # wait until process is finished \n",
    "    p1.join() \n",
    "  \n",
    "    # print global result list \n",
    "    print(\"Result(in main program): {}\".format(result))"
   ]
  },
  {
   "cell_type": "markdown",
   "metadata": {},
   "source": [
    "```\n",
    "Note:\n",
    "在 multiprocessing 中，任何被新創立的 process:\n",
    "    1. 獨立運作\n",
    "    2. 擁有自己的記憶體空間\n",
    "```"
   ]
  },
  {
   "cell_type": "markdown",
   "metadata": {},
   "source": [
    "------------------------------------------------------------"
   ]
  },
  {
   "cell_type": "markdown",
   "metadata": {},
   "source": [
    "### Multiprocessing a for loop?"
   ]
  },
  {
   "cell_type": "markdown",
   "metadata": {},
   "source": [
    "```\n",
    "在前面，我們使用迭代依序對網站發出 get request。\n",
    "\n",
    "-> 接著，我們以 multiprocessing 執行 for loop。\n",
    "```"
   ]
  },
  {
   "cell_type": "markdown",
   "metadata": {},
   "source": [
    "### Review:"
   ]
  },
  {
   "cell_type": "code",
   "execution_count": 12,
   "metadata": {},
   "outputs": [
    {
     "name": "stdout",
     "output_type": "stream",
     "text": [
      "Invalid url:  https://www.ptt.cc/bbs/NBA/index6505.html\n",
      "None\n",
      "https://www.ptt.cc/bbs/NBA/index6504.html\n",
      "https://www.ptt.cc/bbs/NBA/index6503.html\n",
      "https://www.ptt.cc/bbs/NBA/index6502.html\n",
      "https://www.ptt.cc/bbs/NBA/index6501.html\n",
      "https://www.ptt.cc/bbs/NBA/index6500.html\n",
      "https://www.ptt.cc/bbs/NBA/index6499.html\n",
      "https://www.ptt.cc/bbs/NBA/index6498.html\n",
      "https://www.ptt.cc/bbs/NBA/index6497.html\n",
      "https://www.ptt.cc/bbs/NBA/index6496.html\n",
      "\n",
      "花費: 0.653050 秒\n"
     ]
    }
   ],
   "source": [
    "import requests\n",
    "\n",
    "def generate_urls(base_url):\n",
    "    page = 6506\n",
    "    for i in range(1, 11):\n",
    "        link = str(page-i) + '.html'\n",
    "        all_urls.append(base_url + str(link))\n",
    "\n",
    "def get_web_page(url):\n",
    "    resp = requests.get(url)\n",
    "    if resp.status_code != 200:\n",
    "        print('Invalid url: ', resp.url)\n",
    "        return None\n",
    "    else:\n",
    "        return resp.url\n",
    "\n",
    "if __name__ == \"__main__\": \n",
    "    all_urls = []\n",
    "    base_url = 'https://www.ptt.cc/bbs/NBA/index'\n",
    "    generate_urls(base_url)\n",
    "    \n",
    "    start = time.time()\n",
    "\n",
    "    for url in all_urls:\n",
    "        url = get_web_page(url)\n",
    "        print(url)\n",
    "\n",
    "    print()\n",
    "    print('花費: %f 秒' % (time.time() - start))"
   ]
  },
  {
   "cell_type": "markdown",
   "metadata": {},
   "source": [
    "<br>"
   ]
  },
  {
   "cell_type": "markdown",
   "metadata": {},
   "source": [
    "### With multiprocessing"
   ]
  },
  {
   "cell_type": "code",
   "execution_count": 13,
   "metadata": {},
   "outputs": [
    {
     "name": "stdout",
     "output_type": "stream",
     "text": [
      "('https://www.ptt.cc/bbs/NBA/index6505.html', 500)\n",
      "('https://www.ptt.cc/bbs/NBA/index6504.html', 200)\n",
      "('https://www.ptt.cc/bbs/NBA/index6503.html', 200)\n",
      "('https://www.ptt.cc/bbs/NBA/index6502.html', 200)\n",
      "('https://www.ptt.cc/bbs/NBA/index6501.html', 200)\n",
      "('https://www.ptt.cc/bbs/NBA/index6500.html', 200)\n",
      "('https://www.ptt.cc/bbs/NBA/index6499.html', 200)\n",
      "('https://www.ptt.cc/bbs/NBA/index6498.html', 200)\n",
      "('https://www.ptt.cc/bbs/NBA/index6497.html', 200)\n",
      "('https://www.ptt.cc/bbs/NBA/index6496.html', 200)\n",
      "\n",
      "花費: 0.282672 秒\n"
     ]
    }
   ],
   "source": [
    "import time\n",
    "from multiprocessing import Pool\n",
    "import requests\n",
    "\n",
    "def generate_urls(base_url):\n",
    "    page = 6506\n",
    "    for i in range(1, 11):\n",
    "        link = str(page-i) + '.html'\n",
    "        all_urls.append(base_url + str(link))\n",
    "        \n",
    "def scrape(url):\n",
    "    resp = requests.get(url)\n",
    "    return resp.url, resp.status_code\n",
    "\n",
    "if __name__ == '__main__':\n",
    "    all_urls = []\n",
    "    base_url = 'https://www.ptt.cc/bbs/NBA/index'\n",
    "    generate_urls(base_url)\n",
    "    \n",
    "    start = time.time()\n",
    "    # Initialize pool\n",
    "    p = Pool(10)\n",
    "    # Store the outputs -> list type. \n",
    "    results = p.map(scrape, all_urls)\n",
    "    p.terminate()\n",
    "    p.join()\n",
    "    \n",
    "    for result in results:\n",
    "        print(result)\n",
    "    print()\n",
    "    print('花費: %f 秒' % (time.time() - start))  "
   ]
  },
  {
   "cell_type": "markdown",
   "metadata": {},
   "source": [
    "------------------------------------------------------------"
   ]
  },
  {
   "cell_type": "markdown",
   "metadata": {},
   "source": [
    "```\n",
    "Note:\n",
    "1. p = Pool(n) \n",
    "-> n: n 個 urls 將在同時間進行處理、實作。\n",
    "\n",
    "2. 此與迭代依序完成的概念相同，只是將工作分配至不同 processor 同時間完成。\n",
    "\n",
    "3. 若要被處理的 urls 數目大於 n，則會被拆成數個 iterations 迭代完成。\n",
    "-> Ex: 假設有 100個 urls\n",
    "       p = Pool(5)\n",
    "       iterations = 20 (100/5)\n",
    "       每一次 iteration 處理 5 個 urls。\n",
    "```"
   ]
  }
 ],
 "metadata": {
  "kernelspec": {
   "display_name": "Python 3",
   "language": "python",
   "name": "python3"
  },
  "language_info": {
   "codemirror_mode": {
    "name": "ipython",
    "version": 3
   },
   "file_extension": ".py",
   "mimetype": "text/x-python",
   "name": "python",
   "nbconvert_exporter": "python",
   "pygments_lexer": "ipython3",
   "version": "3.7.3"
  }
 },
 "nbformat": 4,
 "nbformat_minor": 2
}
